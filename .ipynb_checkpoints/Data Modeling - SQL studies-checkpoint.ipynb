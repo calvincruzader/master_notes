{
 "cells": [
  {
   "cell_type": "markdown",
   "metadata": {},
   "source": [
    "# FUNDAMENTALS\n",
    "\n",
    "We have to think not only of a data's type but also their meaning in the real world"
   ]
  },
  {
   "cell_type": "markdown",
   "metadata": {},
   "source": [
    "LIKE \n",
    "- do you need to repeat this? YES "
   ]
  },
  {
   "cell_type": "markdown",
   "metadata": {},
   "source": [
    "BETWEEN \n",
    "- in the WHERE clause for an inclusive range"
   ]
  },
  {
   "cell_type": "markdown",
   "metadata": {},
   "source": [
    "GROUP BY \n",
    "- need to use this for AGGREGATE functions (SUM/COUNT/AVG/MIN/MAX) so we can separate out how the data gets partitioned! \n",
    "- when filtering the aggregates based on some LIKE criteria (or whatever), use a CASE clause and shove it in the SELECT clause: \n",
    "\n",
    "`\n",
    "SELECT \n",
    "  CASE \n",
    "    WHEN name like '%n' THEN 'n suffix'\n",
    "    WHEN name like '%a' THEN 'a suffix'\n",
    "  end as group_by_value,\n",
    "  COUNT(*) AS group_by_count\n",
    "FROM world w \n",
    "GROUP BY group_by_value\n",
    "`\n",
    "\n",
    "CASE \n",
    "- goes down line by line and goes to the first fulfilling condition (if not, then goes to else if it exists) "
   ]
  },
  {
   "cell_type": "markdown",
   "metadata": {},
   "source": [
    "WHERE vs HAVING \n",
    "- WHERE filters values from a **result**\n",
    "    - WHERE happens first, filtering the data, THEN SQL groups the rows together in an aggregate function \n",
    "- HAVING filters values from a **group** ( GROUP BY ) \n",
    "\n",
    "general format of a SQL statement:\n",
    "\n",
    "SELECT | FROM | WHERE | GROUP BY | HAVING\n",
    "\n",
    "- left to right (or top to bottom) approach: WHERE is first applied to the result and then, the remaining rows are summarized according to GROUP BY "
   ]
  },
  {
   "cell_type": "markdown",
   "metadata": {},
   "source": [
    "# Data Modeling Fundamentals \n"
   ]
  },
  {
   "cell_type": "markdown",
   "metadata": {},
   "source": [
    "A few different types of data models: conceptual, logical, physical\n",
    "\n",
    "### Data Model Intro\n",
    "\n",
    "What is data modeling?\n",
    "- Many definitions, but popular way of thinking is that it is database design \n",
    "    - other ways of thinking are that it is business user requirements model \n",
    "\n",
    "Data models \n",
    "- can be big\n",
    "- have many levels of granularity\n",
    "    - conceptual/logical/physical\n",
    "    \n",
    "Conceptual data model example \n",
    "- high level so that business can manage operations and plan strategically (lol wut)\n",
    "- **self-referential relationships** when entities refer to themselves (an employee can manage other employees)\n",
    "\n",
    "Logical data model\n",
    "- fully attributed, has data facts/attributes for each entity\n",
    "- primary role is to express requirements in a way that we can discuss them with business users\n",
    "- can drill down to the data and change/modify it to meet expectations of our target audience\n",
    "\n",
    "Physical data model \n",
    "- more detailed (qualifiers for entities i.e. HumanResources.Employee i.e. HR is a qualifier for employee)\n",
    "- technical people will be viewing it (developers/DBAs/etc.)\n",
    "\n",
    "Why do data modeling?\n",
    "- not optional, all systems are designed with models \n",
    "- solutions selection\n",
    "    - design LDM and compare what we require with a 3rd party option \n",
    "- good way to understanding your data inventory \n",
    "\n",
    "Is there one right way to do data modeling?\n",
    "- Nope! As long as business requirements are met \n",
    "\n",
    "Data Model Driven Database Design \n",
    "- database design approach using data models to capture business requirements and design decisions for easy review/testing/measuring/iterativeness/\n",
    "\n"
   ]
  },
  {
   "cell_type": "code",
   "execution_count": null,
   "metadata": {},
   "outputs": [],
   "source": []
  },
  {
   "cell_type": "markdown",
   "metadata": {},
   "source": []
  },
  {
   "cell_type": "markdown",
   "metadata": {},
   "source": [
    "Fact table vs. dimension table \n",
    "- fact table - contains measurements of a single event of a business process (customer purchases table/product returns table)\n",
    "    - typically numeric data, easily manipulated, aggregatable \n",
    "    - big early decision when designing fact tables is the grain of the table, level of detail contained within the table\n",
    "- dimension table - contain objects of a business. Facts correspond to events, dimensions correspond to people/items/etc. \n",
    "     - contain details of each instance of an object (i.e. contain a record for each item a customer purchases, which might have info such as cost/supplier/color/etc.)"
   ]
  },
  {
   "cell_type": "markdown",
   "metadata": {},
   "source": [
    "Star schema "
   ]
  },
  {
   "cell_type": "markdown",
   "metadata": {},
   "source": [
    "# Books\n",
    "\n",
    "Data Modeling Essentials by Graeme Simsion, Witt "
   ]
  }
 ],
 "metadata": {
  "kernelspec": {
   "display_name": "Python [conda env:Miniconda3]",
   "language": "python",
   "name": "conda-env-Miniconda3-py"
  },
  "language_info": {
   "codemirror_mode": {
    "name": "ipython",
    "version": 3
   },
   "file_extension": ".py",
   "mimetype": "text/x-python",
   "name": "python",
   "nbconvert_exporter": "python",
   "pygments_lexer": "ipython3",
   "version": "3.6.3"
  }
 },
 "nbformat": 4,
 "nbformat_minor": 2
}

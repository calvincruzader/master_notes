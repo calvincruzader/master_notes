{
 "cells": [
  {
   "cell_type": "markdown",
   "metadata": {},
   "source": [
    "WHERE vs HAVING \n",
    "- WHERE filters values from a **result**\n",
    "- HAVING filters values from a **group**\n",
    "\n",
    "general format of a SQL statement:\n",
    "\n",
    "SELECT | FROM | WHERE | GROUP BY | HAVING\n",
    "\n",
    "- left to right (or top to bottom) approach: WHERE is first applied to the result and then, the remaining rows are "
   ]
  }
 ],
 "metadata": {
  "kernelspec": {
   "display_name": "Python [conda env:Miniconda3]",
   "language": "python",
   "name": "conda-env-Miniconda3-py"
  },
  "language_info": {
   "codemirror_mode": {
    "name": "ipython",
    "version": 3
   },
   "file_extension": ".py",
   "mimetype": "text/x-python",
   "name": "python",
   "nbconvert_exporter": "python",
   "pygments_lexer": "ipython3",
   "version": "3.6.3"
  }
 },
 "nbformat": 4,
 "nbformat_minor": 2
}
